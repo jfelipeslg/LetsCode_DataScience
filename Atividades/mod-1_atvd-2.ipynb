{
 "cells": [
  {
   "cell_type": "markdown",
   "metadata": {},
   "source": [
    "#### Faça um programa que leia a validade das informações:\n",
    "\n",
    "* Idade: entre 0 e 150;\n",
    "* Salário: maior que 0;\n",
    "* Sexo: M, F ou Outro;\n",
    "\n",
    "O programa deve imprimir uma mensagem de erro para cada informação\n",
    "inválida."
   ]
  },
  {
   "cell_type": "code",
   "execution_count": 13,
   "metadata": {},
   "outputs": [
    {
     "name": "stdout",
     "output_type": "stream",
     "text": [
      "Idade: 21\n"
     ]
    }
   ],
   "source": [
    "idade = int(input('Digite sua idade: ')) # Condição: 0 < x < 150 (valores entre 0 e 150)\n",
    "\n",
    "# if (idade <= 0) or (idade >= 150):\n",
    "#     print('Idade inválida.')\n",
    "    \n",
    "while (idade <= 0) or (idade >= 150):\n",
    "    idade = int(input('Idade inválida. Digite novamente sua idade: '))\n",
    "print('Idade: %.0f' %(idade))"
   ]
  },
  {
   "cell_type": "code",
   "execution_count": 19,
   "metadata": {},
   "outputs": [
    {
     "name": "stdout",
     "output_type": "stream",
     "text": [
      "Salário: R$1000.00\n"
     ]
    }
   ],
   "source": [
    "salario = int(input('Digite seu salário: ')) # Condição: x > 0 (salário maior que 0)\n",
    "\n",
    "# if (not (salario > 0)):\n",
    "#     print('Valor inválido.')\n",
    "    \n",
    "while (not (salario > 0)):\n",
    "    salario = int(input('Valor inválido. Digite novamente seu salário: '))\n",
    "print('Salário: R$%.2f' %(salario))"
   ]
  },
  {
   "cell_type": "code",
   "execution_count": 33,
   "metadata": {},
   "outputs": [
    {
     "name": "stdout",
     "output_type": "stream",
     "text": [
      "Sexo: M\n"
     ]
    }
   ],
   "source": [
    "sexo = input('Digite seu sexo (Formato: M, F ou Outro): ')\n",
    "\n",
    "# if (sexo != 'M' and sexo != 'F' and sexo != 'Outro'):\n",
    "#     print('Opção inválida.')\n",
    "    \n",
    "while (sexo != 'M' and sexo != 'F' and sexo != 'Outro'):\n",
    "    sexo = input('Opção inválida. Digite novamente seu sexo: ')\n",
    "print('Sexo: %s' %(sexo))"
   ]
  }
 ],
 "metadata": {
  "kernelspec": {
   "display_name": "Python 3.9.12 ('venv_letscode': venv)",
   "language": "python",
   "name": "python3"
  },
  "language_info": {
   "codemirror_mode": {
    "name": "ipython",
    "version": 3
   },
   "file_extension": ".py",
   "mimetype": "text/x-python",
   "name": "python",
   "nbconvert_exporter": "python",
   "pygments_lexer": "ipython3",
   "version": "3.9.12"
  },
  "orig_nbformat": 4,
  "vscode": {
   "interpreter": {
    "hash": "4cf1044bb4b69a7b1212dfaa7e83668d0af45a263014d05762bd1c1490fdefce"
   }
  }
 },
 "nbformat": 4,
 "nbformat_minor": 2
}
