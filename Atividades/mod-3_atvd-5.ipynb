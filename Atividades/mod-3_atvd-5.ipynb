{
 "cells": [
  {
   "cell_type": "markdown",
   "metadata": {},
   "source": [
    "#### Utilize a URL \"https://api.covid19api.com/country/brazil\" em seu código. Ela retorna uma lista de dicionários, onde cada dicionário traz informações através das chaves:\n",
    "\"ID\", \"Country\", \"CountryCode\", \"Province\", \"City\", \n",
    "\"CityCode\",\"Lat\",\"Lon\",\"Confirmed\",\"Deaths\", \"Recovered\", \"Active\" e \"Date\".\n",
    "Utilize essas informações e retorne a data em que o Brasil confirmou o \n",
    "primeiro caso de COVID"
   ]
  },
  {
   "cell_type": "code",
   "execution_count": 22,
   "metadata": {},
   "outputs": [],
   "source": [
    "import requests as req\n",
    "import datetime as dt"
   ]
  },
  {
   "cell_type": "code",
   "execution_count": 4,
   "metadata": {},
   "outputs": [
    {
     "name": "stdout",
     "output_type": "stream",
     "text": [
      "200\n"
     ]
    }
   ],
   "source": [
    "urlAPI = 'https://api.covid19api.com/country/brazil'\n",
    "modelAPI = req.get(urlAPI)\n",
    "print(modelAPI.status_code)"
   ]
  },
  {
   "cell_type": "code",
   "execution_count": 6,
   "metadata": {},
   "outputs": [
    {
     "name": "stdout",
     "output_type": "stream",
     "text": [
      "{'ID': '82bb182c-e73f-41d1-a634-58e23d0875c2', 'Country': 'Brazil', 'CountryCode': 'BR', 'Province': '', 'City': '', 'CityCode': '', 'Lat': '-14.24', 'Lon': '-51.93', 'Confirmed': 0, 'Deaths': 0, 'Recovered': 0, 'Active': 0, 'Date': '2020-01-22T00:00:00Z'}\n"
     ]
    }
   ],
   "source": [
    "dados = modelAPI.json()\n",
    "print(dados[0])"
   ]
  },
  {
   "cell_type": "code",
   "execution_count": 23,
   "metadata": {},
   "outputs": [
    {
     "name": "stdout",
     "output_type": "stream",
     "text": [
      "26/02/2020\n"
     ]
    }
   ],
   "source": [
    "for i in range(len(dados)):\n",
    "    if dados[i]['Confirmed'] > 0:\n",
    "        #print(dados[i]['Date'][:10])\n",
    "        inicio = dt.datetime.strptime(dados[i]['Date'][:10], '%Y-%m-%d')\n",
    "        print(inicio.strftime('%d/%m/%Y'))\n",
    "        break\n",
    "         "
   ]
  }
 ],
 "metadata": {
  "kernelspec": {
   "display_name": "Python 3.9.12 ('venv_letscode': venv)",
   "language": "python",
   "name": "python3"
  },
  "language_info": {
   "codemirror_mode": {
    "name": "ipython",
    "version": 3
   },
   "file_extension": ".py",
   "mimetype": "text/x-python",
   "name": "python",
   "nbconvert_exporter": "python",
   "pygments_lexer": "ipython3",
   "version": "3.9.12"
  },
  "orig_nbformat": 4,
  "vscode": {
   "interpreter": {
    "hash": "4cf1044bb4b69a7b1212dfaa7e83668d0af45a263014d05762bd1c1490fdefce"
   }
  }
 },
 "nbformat": 4,
 "nbformat_minor": 2
}
