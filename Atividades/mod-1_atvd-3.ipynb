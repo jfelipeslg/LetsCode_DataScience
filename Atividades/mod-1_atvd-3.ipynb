{
 "cells": [
  {
   "cell_type": "markdown",
   "metadata": {},
   "source": [
    "#### Vamos fazer um programa para verificar quem é o assassino de um crime. Para descobrir o assassino, a polícia faz um pequeno questionário com 5 perguntas onde a resposta só pode ser sim ou não:\n",
    "\n",
    "* Mora perto da vítima?\n",
    "* Já trabalhou com a vítima?\n",
    "* Telefonou para a vítima?\n",
    "* Esteve no local do crime?\n",
    "* Devia para a vítima?\n",
    "\n",
    "Cada resposta sim dá um ponto para o suspeito. A polícia considera que os\n",
    "suspeitos com 5 pontos são os assassinos, com 4 a 3 pontos são cúmplices e\n",
    "2 pontos são apenas suspeitos, necessitando outras investigações. Valores\n",
    "iguais ou abaixo de 1 são liberados."
   ]
  },
  {
   "cell_type": "code",
   "execution_count": 3,
   "metadata": {},
   "outputs": [],
   "source": [
    "def ToBool(x):\n",
    "    if (x =='sim'):\n",
    "        x = 1\n",
    "    elif (x =='não'):\n",
    "        x = 0\n",
    "    # else:\n",
    "    #     print('Resposta inválida.')\n",
    "    return x"
   ]
  },
  {
   "cell_type": "code",
   "execution_count": 14,
   "metadata": {},
   "outputs": [
    {
     "name": "stdout",
     "output_type": "stream",
     "text": [
      "Responda o questionário com sim ou não.\n",
      "Assassino!\n"
     ]
    }
   ],
   "source": [
    "print('Responda o questionário com ''sim'' ou ''não''.')\n",
    "q1 = ToBool(input('Mora perto da vítima? '))\n",
    "q2 = ToBool(input('Já trabalhou com a vítima? '))\n",
    "q3 = ToBool(input('Telefonou para a vítima? '))\n",
    "q4 = ToBool(input('Esteve no local do crime? '))\n",
    "q5 = ToBool(input('Devia para a vítima? '))\n",
    "\n",
    "soma = 0\n",
    "soma = q1+q2+q3+q4+q5\n",
    "if soma == 5:\n",
    "    print('Assassino!')\n",
    "elif (soma == 4) or (soma == 3):\n",
    "    print('Cúmplice!')\n",
    "elif soma == 2:\n",
    "    print('Suspeito!')\n",
    "else:\n",
    "    print('Liberado!')"
   ]
  }
 ],
 "metadata": {
  "kernelspec": {
   "display_name": "Python 3.9.12 ('venv_letscode': venv)",
   "language": "python",
   "name": "python3"
  },
  "language_info": {
   "codemirror_mode": {
    "name": "ipython",
    "version": 3
   },
   "file_extension": ".py",
   "mimetype": "text/x-python",
   "name": "python",
   "nbconvert_exporter": "python",
   "pygments_lexer": "ipython3",
   "version": "3.9.12"
  },
  "orig_nbformat": 4,
  "vscode": {
   "interpreter": {
    "hash": "4cf1044bb4b69a7b1212dfaa7e83668d0af45a263014d05762bd1c1490fdefce"
   }
  }
 },
 "nbformat": 4,
 "nbformat_minor": 2
}
