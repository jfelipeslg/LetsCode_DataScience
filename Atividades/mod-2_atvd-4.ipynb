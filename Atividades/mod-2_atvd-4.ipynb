{
 "cells": [
  {
   "cell_type": "markdown",
   "metadata": {},
   "source": [
    "#### Crie um dicionário cujas chaves são os meses do ano e os valores são a duração (em dias) de cada mês."
   ]
  },
  {
   "cell_type": "code",
   "execution_count": 1,
   "metadata": {},
   "outputs": [],
   "source": [
    "calendario = {\n",
    "    'Janeiro': 31,\n",
    "    'Fevereiro': 28,\n",
    "    'Março': 31,\n",
    "    'Abril': 30,\n",
    "    'Maio': 31,\n",
    "    'Junho': 30,\n",
    "    'Julho': 31,\n",
    "    'Agosto': 31,\n",
    "    'Setembro': 30,\n",
    "    'Outubro': 31,\n",
    "    'Novembro': 30,\n",
    "    'Dezembro': 31\n",
    "}"
   ]
  },
  {
   "cell_type": "code",
   "execution_count": 4,
   "metadata": {},
   "outputs": [
    {
     "name": "stdout",
     "output_type": "stream",
     "text": [
      "{'Janeiro': 31, 'Fevereiro': 28, 'Março': 31, 'Abril': 30, 'Maio': 31, 'Junho': 30, 'Julho': 31, 'Agosto': 31, 'Setembro': 30, 'Outubro': 31, 'Novembro': 30, 'Dezembro': 31}\n"
     ]
    }
   ],
   "source": [
    "print(calendario)"
   ]
  },
  {
   "cell_type": "code",
   "execution_count": 6,
   "metadata": {},
   "outputs": [
    {
     "name": "stdout",
     "output_type": "stream",
     "text": [
      "dict_keys(['Janeiro', 'Fevereiro', 'Março', 'Abril', 'Maio', 'Junho', 'Julho', 'Agosto', 'Setembro', 'Outubro', 'Novembro', 'Dezembro'])\n",
      "\n",
      "\n",
      "dict_values([31, 28, 31, 30, 31, 30, 31, 31, 30, 31, 30, 31])\n",
      "\n",
      "\n",
      "dict_items([('Janeiro', 31), ('Fevereiro', 28), ('Março', 31), ('Abril', 30), ('Maio', 31), ('Junho', 30), ('Julho', 31), ('Agosto', 31), ('Setembro', 30), ('Outubro', 31), ('Novembro', 30), ('Dezembro', 31)])\n"
     ]
    }
   ],
   "source": [
    "print(calendario.keys())\n",
    "print('\\n')\n",
    "print(calendario.values())\n",
    "print('\\n')\n",
    "print(calendario.items())"
   ]
  }
 ],
 "metadata": {
  "kernelspec": {
   "display_name": "Python 3.9.12 ('venv_letscode': venv)",
   "language": "python",
   "name": "python3"
  },
  "language_info": {
   "codemirror_mode": {
    "name": "ipython",
    "version": 3
   },
   "file_extension": ".py",
   "mimetype": "text/x-python",
   "name": "python",
   "nbconvert_exporter": "python",
   "pygments_lexer": "ipython3",
   "version": "3.9.12"
  },
  "orig_nbformat": 4,
  "vscode": {
   "interpreter": {
    "hash": "4cf1044bb4b69a7b1212dfaa7e83668d0af45a263014d05762bd1c1490fdefce"
   }
  }
 },
 "nbformat": 4,
 "nbformat_minor": 2
}
