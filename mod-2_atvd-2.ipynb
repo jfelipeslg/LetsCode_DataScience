{
 "cells": [
  {
   "cell_type": "markdown",
   "metadata": {},
   "source": [
    "#### Faça um programa que peça para o usuário digitar uma palavra e imprima cada letra em uma linha."
   ]
  },
  {
   "cell_type": "code",
   "execution_count": 2,
   "metadata": {},
   "outputs": [
    {
     "name": "stdout",
     "output_type": "stream",
     "text": [
      "a\n",
      "b\n",
      "a\n",
      "c\n",
      "a\n",
      "x\n",
      "i\n"
     ]
    }
   ],
   "source": [
    "palavra = input('Digite uma palavra: ')\n",
    "for i in palavra:\n",
    "    print(i)"
   ]
  }
 ],
 "metadata": {
  "kernelspec": {
   "display_name": "Python 3.9.12 ('venv_letscode': venv)",
   "language": "python",
   "name": "python3"
  },
  "language_info": {
   "codemirror_mode": {
    "name": "ipython",
    "version": 3
   },
   "file_extension": ".py",
   "mimetype": "text/x-python",
   "name": "python",
   "nbconvert_exporter": "python",
   "pygments_lexer": "ipython3",
   "version": "3.9.12"
  },
  "orig_nbformat": 4,
  "vscode": {
   "interpreter": {
    "hash": "4cf1044bb4b69a7b1212dfaa7e83668d0af45a263014d05762bd1c1490fdefce"
   }
  }
 },
 "nbformat": 4,
 "nbformat_minor": 2
}
