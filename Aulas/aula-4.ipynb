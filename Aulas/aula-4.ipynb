{
 "cells": [
  {
   "cell_type": "code",
   "execution_count": 1,
   "metadata": {},
   "outputs": [
    {
     "name": "stdout",
     "output_type": "stream",
     "text": [
      "34 <class 'str'>\n"
     ]
    }
   ],
   "source": [
    "idade = input('Informe a sua idade: ')\n",
    "print(idade, type(idade))"
   ]
  },
  {
   "cell_type": "code",
   "execution_count": 2,
   "metadata": {},
   "outputs": [
    {
     "name": "stdout",
     "output_type": "stream",
     "text": [
      "34 <class 'int'>\n"
     ]
    }
   ],
   "source": [
    "idade = int(idade)\n",
    "print(idade, type(idade))"
   ]
  },
  {
   "cell_type": "code",
   "execution_count": 3,
   "metadata": {},
   "outputs": [
    {
     "ename": "ValueError",
     "evalue": "invalid literal for int() with base 10: '123abc'",
     "output_type": "error",
     "traceback": [
      "\u001b[1;31m---------------------------------------------------------------------------\u001b[0m",
      "\u001b[1;31mValueError\u001b[0m                                Traceback (most recent call last)",
      "Cell \u001b[1;32mIn [3], line 1\u001b[0m\n\u001b[1;32m----> 1\u001b[0m \u001b[38;5;28;43mint\u001b[39;49m\u001b[43m(\u001b[49m\u001b[38;5;124;43m'\u001b[39;49m\u001b[38;5;124;43m123abc\u001b[39;49m\u001b[38;5;124;43m'\u001b[39;49m\u001b[43m)\u001b[49m\n",
      "\u001b[1;31mValueError\u001b[0m: invalid literal for int() with base 10: '123abc'"
     ]
    }
   ],
   "source": [
    "int('123abc')"
   ]
  },
  {
   "cell_type": "code",
   "execution_count": 4,
   "metadata": {},
   "outputs": [
    {
     "name": "stdout",
     "output_type": "stream",
     "text": [
      "123.25\n",
      "123.25\n",
      "False\n",
      "False\n",
      "True\n",
      "True\n",
      "True\n"
     ]
    }
   ],
   "source": [
    "print(float('123.25'))\n",
    "print(str(123.25))\n",
    "\n",
    "print(bool(''))\n",
    "print(bool(0))\n",
    "print(bool('0'))\n",
    "\n",
    "print(bool('abc'))\n",
    "print(bool(5))"
   ]
  },
  {
   "cell_type": "code",
   "execution_count": 6,
   "metadata": {},
   "outputs": [
    {
     "name": "stdout",
     "output_type": "stream",
     "text": [
      "Seu montante anual é de 36000.0\n",
      "Seu montante anual é de 36000.0\n",
      "Seu montante anual é de 36000.0\n"
     ]
    }
   ],
   "source": [
    "salario_mensal = input('Digite seu salário mensal: ')\n",
    "salario_mensal = float(salario_mensal)\n",
    "\n",
    "gasto_mensal = input('Digite seu gasto mensal: ')\n",
    "gasto_mensal = float(gasto_mensal)\n",
    "\n",
    "montante = salario_mensal*12 - gasto_mensal*12\n",
    "print('Seu montante anual é de', montante)\n",
    "print('Seu montante anual é de {}'.format(montante))\n",
    "print('Seu montante anual é de %.1f' %(montante))"
   ]
  }
 ],
 "metadata": {
  "kernelspec": {
   "display_name": "Python 3.9.12 ('venv_letscode': venv)",
   "language": "python",
   "name": "python3"
  },
  "language_info": {
   "codemirror_mode": {
    "name": "ipython",
    "version": 3
   },
   "file_extension": ".py",
   "mimetype": "text/x-python",
   "name": "python",
   "nbconvert_exporter": "python",
   "pygments_lexer": "ipython3",
   "version": "3.9.12"
  },
  "orig_nbformat": 4,
  "vscode": {
   "interpreter": {
    "hash": "4cf1044bb4b69a7b1212dfaa7e83668d0af45a263014d05762bd1c1490fdefce"
   }
  }
 },
 "nbformat": 4,
 "nbformat_minor": 2
}
