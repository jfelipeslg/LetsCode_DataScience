{
 "cells": [
  {
   "cell_type": "code",
   "execution_count": 5,
   "metadata": {},
   "outputs": [
    {
     "name": "stdout",
     "output_type": "stream",
     "text": [
      "Google\n"
     ]
    }
   ],
   "source": [
    "empresa = 'Google'\n",
    "print(empresa)"
   ]
  },
  {
   "cell_type": "code",
   "execution_count": 6,
   "metadata": {},
   "outputs": [
    {
     "name": "stdout",
     "output_type": "stream",
     "text": [
      "Google\n"
     ]
    }
   ],
   "source": [
    "empresa = \"Google\"\n",
    "print(empresa)"
   ]
  },
  {
   "cell_type": "code",
   "execution_count": 7,
   "metadata": {},
   "outputs": [
    {
     "name": "stdout",
     "output_type": "stream",
     "text": [
      "Let's Code\n"
     ]
    }
   ],
   "source": [
    "empresa = \"Let's Code\"\n",
    "print(empresa)"
   ]
  },
  {
   "cell_type": "code",
   "execution_count": 8,
   "metadata": {},
   "outputs": [
    {
     "name": "stdout",
     "output_type": "stream",
     "text": [
      "O professor Pietro da Let's Code disse: \"Hoje a pizza é por minha conta!\" \n",
      "O professor Pietro da Let's Code disse: \"Hoje a pizza é por minha conta!\" \n"
     ]
    }
   ],
   "source": [
    "frase = 'O professor Pietro da Let\\'s Code disse: \\\"Hoje a pizza é por minha conta!\\\" '\n",
    "print(frase)\n",
    "\n",
    "frase = \"O professor Pietro da Let\\'s Code disse: \\\"Hoje a pizza é por minha conta!\\\" \"\n",
    "print(frase)"
   ]
  },
  {
   "cell_type": "code",
   "execution_count": 9,
   "metadata": {},
   "outputs": [
    {
     "name": "stdout",
     "output_type": "stream",
     "text": [
      "G\n",
      "Goo\n"
     ]
    }
   ],
   "source": [
    "empresa = 'Google'\n",
    "print(empresa[0])\n",
    "print(empresa[:3])"
   ]
  },
  {
   "cell_type": "code",
   "execution_count": 10,
   "metadata": {},
   "outputs": [
    {
     "name": "stdout",
     "output_type": "stream",
     "text": [
      "['São Paulo', 'Rio de Janeiro', 'Salvador', 'João Pessoa']\n"
     ]
    }
   ],
   "source": [
    "nomes_cidades = 'São Paulo, Rio de Janeiro, Salvador, João Pessoa'\n",
    "nomes_cidades = nomes_cidades.split(', ')\n",
    "print(nomes_cidades)"
   ]
  },
  {
   "cell_type": "code",
   "execution_count": 11,
   "metadata": {},
   "outputs": [
    {
     "name": "stdout",
     "output_type": "stream",
     "text": [
      "MENU PRINCIPAL\n"
     ]
    }
   ],
   "source": [
    "cabecalho = '                  MENU PRINCIPAL                '\n",
    "print(cabecalho.strip())"
   ]
  },
  {
   "cell_type": "code",
   "execution_count": 12,
   "metadata": {},
   "outputs": [
    {
     "name": "stdout",
     "output_type": "stream",
     "text": [
      "Rio De Janeiro\n",
      "Rio de janeiro\n",
      "rio de janeiro\n",
      "RIO DE JANEIRO\n"
     ]
    }
   ],
   "source": [
    "nome_cidade = 'rIO de JANEIro'\n",
    "print(nome_cidade.title())\n",
    "print(nome_cidade.capitalize())\n",
    "print(nome_cidade.lower())\n",
    "print(nome_cidade.upper())"
   ]
  },
  {
   "cell_type": "code",
   "execution_count": 15,
   "metadata": {},
   "outputs": [
    {
     "name": "stdout",
     "output_type": "stream",
     "text": [
      "Acertou!\n"
     ]
    }
   ],
   "source": [
    "pergunta_cidade = input('Qual cidade do Brasil é conhecida como cidade maravilhosa? ')\n",
    "pergunta_cidade = pergunta_cidade.strip()\n",
    "\n",
    "while pergunta_cidade.lower() != 'rio de janeiro':\n",
    "    print('\\nTente novamente!')\n",
    "    pergunta_cidade = input('Qual cidade do Brasil é conhecida como cidade maravilhosa? ')\n",
    "    \n",
    "print('Acertou!')"
   ]
  },
  {
   "cell_type": "code",
   "execution_count": 16,
   "metadata": {},
   "outputs": [
    {
     "name": "stdout",
     "output_type": "stream",
     "text": [
      "True\n",
      "False\n"
     ]
    }
   ],
   "source": [
    "mensagem = 'Você viu Pietro ontem na sala? '\n",
    "in_pietro = 'Pietro' in mensagem\n",
    "in_felipe = 'Felipe' in mensagem\n",
    "print(in_pietro)\n",
    "print(in_felipe)"
   ]
  }
 ],
 "metadata": {
  "kernelspec": {
   "display_name": "Python 3.9.12 ('venv_letscode': venv)",
   "language": "python",
   "name": "python3"
  },
  "language_info": {
   "codemirror_mode": {
    "name": "ipython",
    "version": 3
   },
   "file_extension": ".py",
   "mimetype": "text/x-python",
   "name": "python",
   "nbconvert_exporter": "python",
   "pygments_lexer": "ipython3",
   "version": "3.9.12"
  },
  "orig_nbformat": 4,
  "vscode": {
   "interpreter": {
    "hash": "4cf1044bb4b69a7b1212dfaa7e83668d0af45a263014d05762bd1c1490fdefce"
   }
  }
 },
 "nbformat": 4,
 "nbformat_minor": 2
}
